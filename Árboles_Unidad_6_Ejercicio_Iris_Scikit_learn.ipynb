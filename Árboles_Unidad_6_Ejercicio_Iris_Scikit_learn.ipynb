{
  "nbformat": 4,
  "nbformat_minor": 0,
  "metadata": {
    "colab": {
      "provenance": []
    },
    "kernelspec": {
      "name": "python3",
      "display_name": "Python 3"
    },
    "language_info": {
      "name": "python"
    }
  },
  "cells": [
    {
      "cell_type": "code",
      "execution_count": 1,
      "metadata": {
        "colab": {
          "base_uri": "https://localhost:8080/"
        },
        "id": "ZpAtVeyQv8Ar",
        "outputId": "94223051-5eea-4b7b-c2c3-d2f813a08ef3"
      },
      "outputs": [
        {
          "output_type": "stream",
          "name": "stdout",
          "text": [
            "Collecting dtreeviz\n",
            "  Downloading dtreeviz-2.2.2-py3-none-any.whl (91 kB)\n",
            "\u001b[2K     \u001b[90m━━━━━━━━━━━━━━━━━━━━━━━━━━━━━━━━━━━━━━━━\u001b[0m \u001b[32m91.8/91.8 kB\u001b[0m \u001b[31m1.5 MB/s\u001b[0m eta \u001b[36m0:00:00\u001b[0m\n",
            "\u001b[?25hRequirement already satisfied: graphviz>=0.9 in /usr/local/lib/python3.10/dist-packages (from dtreeviz) (0.20.1)\n",
            "Requirement already satisfied: pandas in /usr/local/lib/python3.10/dist-packages (from dtreeviz) (1.5.3)\n",
            "Requirement already satisfied: numpy in /usr/local/lib/python3.10/dist-packages (from dtreeviz) (1.22.4)\n",
            "Requirement already satisfied: scikit-learn in /usr/local/lib/python3.10/dist-packages (from dtreeviz) (1.2.2)\n",
            "Requirement already satisfied: matplotlib in /usr/local/lib/python3.10/dist-packages (from dtreeviz) (3.7.1)\n",
            "Collecting colour (from dtreeviz)\n",
            "  Downloading colour-0.1.5-py2.py3-none-any.whl (23 kB)\n",
            "Requirement already satisfied: pytest in /usr/local/lib/python3.10/dist-packages (from dtreeviz) (7.2.2)\n",
            "Requirement already satisfied: contourpy>=1.0.1 in /usr/local/lib/python3.10/dist-packages (from matplotlib->dtreeviz) (1.1.0)\n",
            "Requirement already satisfied: cycler>=0.10 in /usr/local/lib/python3.10/dist-packages (from matplotlib->dtreeviz) (0.11.0)\n",
            "Requirement already satisfied: fonttools>=4.22.0 in /usr/local/lib/python3.10/dist-packages (from matplotlib->dtreeviz) (4.41.0)\n",
            "Requirement already satisfied: kiwisolver>=1.0.1 in /usr/local/lib/python3.10/dist-packages (from matplotlib->dtreeviz) (1.4.4)\n",
            "Requirement already satisfied: packaging>=20.0 in /usr/local/lib/python3.10/dist-packages (from matplotlib->dtreeviz) (23.1)\n",
            "Requirement already satisfied: pillow>=6.2.0 in /usr/local/lib/python3.10/dist-packages (from matplotlib->dtreeviz) (8.4.0)\n",
            "Requirement already satisfied: pyparsing>=2.3.1 in /usr/local/lib/python3.10/dist-packages (from matplotlib->dtreeviz) (3.1.0)\n",
            "Requirement already satisfied: python-dateutil>=2.7 in /usr/local/lib/python3.10/dist-packages (from matplotlib->dtreeviz) (2.8.2)\n",
            "Requirement already satisfied: pytz>=2020.1 in /usr/local/lib/python3.10/dist-packages (from pandas->dtreeviz) (2022.7.1)\n",
            "Requirement already satisfied: attrs>=19.2.0 in /usr/local/lib/python3.10/dist-packages (from pytest->dtreeviz) (23.1.0)\n",
            "Requirement already satisfied: iniconfig in /usr/local/lib/python3.10/dist-packages (from pytest->dtreeviz) (2.0.0)\n",
            "Requirement already satisfied: pluggy<2.0,>=0.12 in /usr/local/lib/python3.10/dist-packages (from pytest->dtreeviz) (1.2.0)\n",
            "Requirement already satisfied: exceptiongroup>=1.0.0rc8 in /usr/local/lib/python3.10/dist-packages (from pytest->dtreeviz) (1.1.2)\n",
            "Requirement already satisfied: tomli>=1.0.0 in /usr/local/lib/python3.10/dist-packages (from pytest->dtreeviz) (2.0.1)\n",
            "Requirement already satisfied: scipy>=1.3.2 in /usr/local/lib/python3.10/dist-packages (from scikit-learn->dtreeviz) (1.10.1)\n",
            "Requirement already satisfied: joblib>=1.1.1 in /usr/local/lib/python3.10/dist-packages (from scikit-learn->dtreeviz) (1.3.1)\n",
            "Requirement already satisfied: threadpoolctl>=2.0.0 in /usr/local/lib/python3.10/dist-packages (from scikit-learn->dtreeviz) (3.2.0)\n",
            "Requirement already satisfied: six>=1.5 in /usr/local/lib/python3.10/dist-packages (from python-dateutil>=2.7->matplotlib->dtreeviz) (1.16.0)\n",
            "Installing collected packages: colour, dtreeviz\n",
            "Successfully installed colour-0.1.5 dtreeviz-2.2.2\n"
          ]
        }
      ],
      "source": [
        "!pip install 'dtreeviz'"
      ]
    },
    {
      "cell_type": "code",
      "source": [
        "import pandas as pd\n",
        "import numpy as np\n",
        "import time\n",
        "\n",
        "#Visualización\n",
        "import matplotlib.pyplot as plt\n",
        "import seaborn as sns\n",
        "import dtreeviz.trees as dtreeviz\n",
        "\n",
        "#modelos y métricas\n",
        "from sklearn import tree\n",
        "from sklearn.model_selection import train_test_split\n",
        "from sklearn.metrics import precision_score, recall_score, accuracy_score,f1_score, precision_recall_curve, roc_curve\n",
        "from sklearn.metrics import confusion_matrix, classification_report\n",
        "#preprocesamiento\n",
        "from sklearn.preprocessing import MinMaxScaler\n",
        "\n",
        "#configuración warnings\n",
        "import warnings\n",
        "warnings.simplefilter(action='ignore', category=FutureWarning)\n",
        "warnings.simplefilter(action='ignore', category=UserWarning)"
      ],
      "metadata": {
        "id": "rL7xTS3pxK2O"
      },
      "execution_count": 2,
      "outputs": []
    },
    {
      "cell_type": "markdown",
      "source": [
        "#Se carga el dataset sobre el cual vamos a trabajar:"
      ],
      "metadata": {
        "id": "cqgJNJRfyEqp"
      }
    },
    {
      "cell_type": "code",
      "source": [
        "from sklearn import datasets\n",
        "iris = datasets.load_iris()\n",
        "list(iris.keys())"
      ],
      "metadata": {
        "id": "kpwlepfiyLn-",
        "colab": {
          "base_uri": "https://localhost:8080/"
        },
        "outputId": "8a93be46-cd6e-4128-c2b9-4ea010d30cdf"
      },
      "execution_count": 3,
      "outputs": [
        {
          "output_type": "execute_result",
          "data": {
            "text/plain": [
              "['data',\n",
              " 'target',\n",
              " 'frame',\n",
              " 'target_names',\n",
              " 'DESCR',\n",
              " 'feature_names',\n",
              " 'filename',\n",
              " 'data_module']"
            ]
          },
          "metadata": {},
          "execution_count": 3
        }
      ]
    },
    {
      "cell_type": "code",
      "source": [
        "# Convertir los datos en un DataFrame de pandas\n",
        "ds_iris = pd.DataFrame(iris.data, columns=iris.feature_names)"
      ],
      "metadata": {
        "id": "BSXcKoXVHfjN"
      },
      "execution_count": 4,
      "outputs": []
    },
    {
      "cell_type": "code",
      "source": [
        "#Mostramos las primeras filas del dataset iris\n",
        "ds_iris.head(10)"
      ],
      "metadata": {
        "colab": {
          "base_uri": "https://localhost:8080/",
          "height": 363
        },
        "id": "PBgJgwYnqaD-",
        "outputId": "5ec99337-7d70-4860-9463-63f4dcc4dac5"
      },
      "execution_count": 5,
      "outputs": [
        {
          "output_type": "execute_result",
          "data": {
            "text/plain": [
              "   sepal length (cm)  sepal width (cm)  petal length (cm)  petal width (cm)\n",
              "0                5.1               3.5                1.4               0.2\n",
              "1                4.9               3.0                1.4               0.2\n",
              "2                4.7               3.2                1.3               0.2\n",
              "3                4.6               3.1                1.5               0.2\n",
              "4                5.0               3.6                1.4               0.2\n",
              "5                5.4               3.9                1.7               0.4\n",
              "6                4.6               3.4                1.4               0.3\n",
              "7                5.0               3.4                1.5               0.2\n",
              "8                4.4               2.9                1.4               0.2\n",
              "9                4.9               3.1                1.5               0.1"
            ],
            "text/html": [
              "\n",
              "\n",
              "  <div id=\"df-9a29c74b-6819-498e-bf3b-30c56813ee67\">\n",
              "    <div class=\"colab-df-container\">\n",
              "      <div>\n",
              "<style scoped>\n",
              "    .dataframe tbody tr th:only-of-type {\n",
              "        vertical-align: middle;\n",
              "    }\n",
              "\n",
              "    .dataframe tbody tr th {\n",
              "        vertical-align: top;\n",
              "    }\n",
              "\n",
              "    .dataframe thead th {\n",
              "        text-align: right;\n",
              "    }\n",
              "</style>\n",
              "<table border=\"1\" class=\"dataframe\">\n",
              "  <thead>\n",
              "    <tr style=\"text-align: right;\">\n",
              "      <th></th>\n",
              "      <th>sepal length (cm)</th>\n",
              "      <th>sepal width (cm)</th>\n",
              "      <th>petal length (cm)</th>\n",
              "      <th>petal width (cm)</th>\n",
              "    </tr>\n",
              "  </thead>\n",
              "  <tbody>\n",
              "    <tr>\n",
              "      <th>0</th>\n",
              "      <td>5.1</td>\n",
              "      <td>3.5</td>\n",
              "      <td>1.4</td>\n",
              "      <td>0.2</td>\n",
              "    </tr>\n",
              "    <tr>\n",
              "      <th>1</th>\n",
              "      <td>4.9</td>\n",
              "      <td>3.0</td>\n",
              "      <td>1.4</td>\n",
              "      <td>0.2</td>\n",
              "    </tr>\n",
              "    <tr>\n",
              "      <th>2</th>\n",
              "      <td>4.7</td>\n",
              "      <td>3.2</td>\n",
              "      <td>1.3</td>\n",
              "      <td>0.2</td>\n",
              "    </tr>\n",
              "    <tr>\n",
              "      <th>3</th>\n",
              "      <td>4.6</td>\n",
              "      <td>3.1</td>\n",
              "      <td>1.5</td>\n",
              "      <td>0.2</td>\n",
              "    </tr>\n",
              "    <tr>\n",
              "      <th>4</th>\n",
              "      <td>5.0</td>\n",
              "      <td>3.6</td>\n",
              "      <td>1.4</td>\n",
              "      <td>0.2</td>\n",
              "    </tr>\n",
              "    <tr>\n",
              "      <th>5</th>\n",
              "      <td>5.4</td>\n",
              "      <td>3.9</td>\n",
              "      <td>1.7</td>\n",
              "      <td>0.4</td>\n",
              "    </tr>\n",
              "    <tr>\n",
              "      <th>6</th>\n",
              "      <td>4.6</td>\n",
              "      <td>3.4</td>\n",
              "      <td>1.4</td>\n",
              "      <td>0.3</td>\n",
              "    </tr>\n",
              "    <tr>\n",
              "      <th>7</th>\n",
              "      <td>5.0</td>\n",
              "      <td>3.4</td>\n",
              "      <td>1.5</td>\n",
              "      <td>0.2</td>\n",
              "    </tr>\n",
              "    <tr>\n",
              "      <th>8</th>\n",
              "      <td>4.4</td>\n",
              "      <td>2.9</td>\n",
              "      <td>1.4</td>\n",
              "      <td>0.2</td>\n",
              "    </tr>\n",
              "    <tr>\n",
              "      <th>9</th>\n",
              "      <td>4.9</td>\n",
              "      <td>3.1</td>\n",
              "      <td>1.5</td>\n",
              "      <td>0.1</td>\n",
              "    </tr>\n",
              "  </tbody>\n",
              "</table>\n",
              "</div>\n",
              "      <button class=\"colab-df-convert\" onclick=\"convertToInteractive('df-9a29c74b-6819-498e-bf3b-30c56813ee67')\"\n",
              "              title=\"Convert this dataframe to an interactive table.\"\n",
              "              style=\"display:none;\">\n",
              "\n",
              "  <svg xmlns=\"http://www.w3.org/2000/svg\" height=\"24px\"viewBox=\"0 0 24 24\"\n",
              "       width=\"24px\">\n",
              "    <path d=\"M0 0h24v24H0V0z\" fill=\"none\"/>\n",
              "    <path d=\"M18.56 5.44l.94 2.06.94-2.06 2.06-.94-2.06-.94-.94-2.06-.94 2.06-2.06.94zm-11 1L8.5 8.5l.94-2.06 2.06-.94-2.06-.94L8.5 2.5l-.94 2.06-2.06.94zm10 10l.94 2.06.94-2.06 2.06-.94-2.06-.94-.94-2.06-.94 2.06-2.06.94z\"/><path d=\"M17.41 7.96l-1.37-1.37c-.4-.4-.92-.59-1.43-.59-.52 0-1.04.2-1.43.59L10.3 9.45l-7.72 7.72c-.78.78-.78 2.05 0 2.83L4 21.41c.39.39.9.59 1.41.59.51 0 1.02-.2 1.41-.59l7.78-7.78 2.81-2.81c.8-.78.8-2.07 0-2.86zM5.41 20L4 18.59l7.72-7.72 1.47 1.35L5.41 20z\"/>\n",
              "  </svg>\n",
              "      </button>\n",
              "\n",
              "\n",
              "\n",
              "    <div id=\"df-0e5f980d-0e06-4524-92e6-ce902b336060\">\n",
              "      <button class=\"colab-df-quickchart\" onclick=\"quickchart('df-0e5f980d-0e06-4524-92e6-ce902b336060')\"\n",
              "              title=\"Suggest charts.\"\n",
              "              style=\"display:none;\">\n",
              "\n",
              "<svg xmlns=\"http://www.w3.org/2000/svg\" height=\"24px\"viewBox=\"0 0 24 24\"\n",
              "     width=\"24px\">\n",
              "    <g>\n",
              "        <path d=\"M19 3H5c-1.1 0-2 .9-2 2v14c0 1.1.9 2 2 2h14c1.1 0 2-.9 2-2V5c0-1.1-.9-2-2-2zM9 17H7v-7h2v7zm4 0h-2V7h2v10zm4 0h-2v-4h2v4z\"/>\n",
              "    </g>\n",
              "</svg>\n",
              "      </button>\n",
              "    </div>\n",
              "\n",
              "<style>\n",
              "  .colab-df-quickchart {\n",
              "    background-color: #E8F0FE;\n",
              "    border: none;\n",
              "    border-radius: 50%;\n",
              "    cursor: pointer;\n",
              "    display: none;\n",
              "    fill: #1967D2;\n",
              "    height: 32px;\n",
              "    padding: 0 0 0 0;\n",
              "    width: 32px;\n",
              "  }\n",
              "\n",
              "  .colab-df-quickchart:hover {\n",
              "    background-color: #E2EBFA;\n",
              "    box-shadow: 0px 1px 2px rgba(60, 64, 67, 0.3), 0px 1px 3px 1px rgba(60, 64, 67, 0.15);\n",
              "    fill: #174EA6;\n",
              "  }\n",
              "\n",
              "  [theme=dark] .colab-df-quickchart {\n",
              "    background-color: #3B4455;\n",
              "    fill: #D2E3FC;\n",
              "  }\n",
              "\n",
              "  [theme=dark] .colab-df-quickchart:hover {\n",
              "    background-color: #434B5C;\n",
              "    box-shadow: 0px 1px 3px 1px rgba(0, 0, 0, 0.15);\n",
              "    filter: drop-shadow(0px 1px 2px rgba(0, 0, 0, 0.3));\n",
              "    fill: #FFFFFF;\n",
              "  }\n",
              "</style>\n",
              "\n",
              "    <script>\n",
              "      async function quickchart(key) {\n",
              "        const containerElement = document.querySelector('#' + key);\n",
              "        const charts = await google.colab.kernel.invokeFunction(\n",
              "            'suggestCharts', [key], {});\n",
              "      }\n",
              "    </script>\n",
              "\n",
              "      <script>\n",
              "\n",
              "function displayQuickchartButton(domScope) {\n",
              "  let quickchartButtonEl =\n",
              "    domScope.querySelector('#df-0e5f980d-0e06-4524-92e6-ce902b336060 button.colab-df-quickchart');\n",
              "  quickchartButtonEl.style.display =\n",
              "    google.colab.kernel.accessAllowed ? 'block' : 'none';\n",
              "}\n",
              "\n",
              "        displayQuickchartButton(document);\n",
              "      </script>\n",
              "      <style>\n",
              "    .colab-df-container {\n",
              "      display:flex;\n",
              "      flex-wrap:wrap;\n",
              "      gap: 12px;\n",
              "    }\n",
              "\n",
              "    .colab-df-convert {\n",
              "      background-color: #E8F0FE;\n",
              "      border: none;\n",
              "      border-radius: 50%;\n",
              "      cursor: pointer;\n",
              "      display: none;\n",
              "      fill: #1967D2;\n",
              "      height: 32px;\n",
              "      padding: 0 0 0 0;\n",
              "      width: 32px;\n",
              "    }\n",
              "\n",
              "    .colab-df-convert:hover {\n",
              "      background-color: #E2EBFA;\n",
              "      box-shadow: 0px 1px 2px rgba(60, 64, 67, 0.3), 0px 1px 3px 1px rgba(60, 64, 67, 0.15);\n",
              "      fill: #174EA6;\n",
              "    }\n",
              "\n",
              "    [theme=dark] .colab-df-convert {\n",
              "      background-color: #3B4455;\n",
              "      fill: #D2E3FC;\n",
              "    }\n",
              "\n",
              "    [theme=dark] .colab-df-convert:hover {\n",
              "      background-color: #434B5C;\n",
              "      box-shadow: 0px 1px 3px 1px rgba(0, 0, 0, 0.15);\n",
              "      filter: drop-shadow(0px 1px 2px rgba(0, 0, 0, 0.3));\n",
              "      fill: #FFFFFF;\n",
              "    }\n",
              "  </style>\n",
              "\n",
              "      <script>\n",
              "        const buttonEl =\n",
              "          document.querySelector('#df-9a29c74b-6819-498e-bf3b-30c56813ee67 button.colab-df-convert');\n",
              "        buttonEl.style.display =\n",
              "          google.colab.kernel.accessAllowed ? 'block' : 'none';\n",
              "\n",
              "        async function convertToInteractive(key) {\n",
              "          const element = document.querySelector('#df-9a29c74b-6819-498e-bf3b-30c56813ee67');\n",
              "          const dataTable =\n",
              "            await google.colab.kernel.invokeFunction('convertToInteractive',\n",
              "                                                     [key], {});\n",
              "          if (!dataTable) return;\n",
              "\n",
              "          const docLinkHtml = 'Like what you see? Visit the ' +\n",
              "            '<a target=\"_blank\" href=https://colab.research.google.com/notebooks/data_table.ipynb>data table notebook</a>'\n",
              "            + ' to learn more about interactive tables.';\n",
              "          element.innerHTML = '';\n",
              "          dataTable['output_type'] = 'display_data';\n",
              "          await google.colab.output.renderOutput(dataTable, element);\n",
              "          const docLink = document.createElement('div');\n",
              "          docLink.innerHTML = docLinkHtml;\n",
              "          element.appendChild(docLink);\n",
              "        }\n",
              "      </script>\n",
              "    </div>\n",
              "  </div>\n"
            ]
          },
          "metadata": {},
          "execution_count": 5
        }
      ]
    },
    {
      "cell_type": "markdown",
      "source": [
        "#Análisis exploratorio"
      ],
      "metadata": {
        "id": "usx2NZ_FNRyH"
      }
    },
    {
      "cell_type": "markdown",
      "source": [
        "Listar la cantidad de filas y columnas que tiene el dataset\n",
        "\n"
      ],
      "metadata": {
        "id": "JavJSL7iNXpd"
      }
    },
    {
      "cell_type": "code",
      "source": [
        "ds_iris.shape"
      ],
      "metadata": {
        "colab": {
          "base_uri": "https://localhost:8080/"
        },
        "id": "A2ZZG60INZEn",
        "outputId": "0654cf52-552e-4312-cd4c-5e7e91ce9a08"
      },
      "execution_count": 6,
      "outputs": [
        {
          "output_type": "execute_result",
          "data": {
            "text/plain": [
              "(150, 4)"
            ]
          },
          "metadata": {},
          "execution_count": 6
        }
      ]
    },
    {
      "cell_type": "markdown",
      "source": [
        "Este dataset contiene 150 filas y 5 columnas"
      ],
      "metadata": {
        "id": "lBIHcInDNn2v"
      }
    },
    {
      "cell_type": "markdown",
      "source": [
        "Listar los nombres de las columnas del dataset"
      ],
      "metadata": {
        "id": "u8rupJhfNsBL"
      }
    },
    {
      "cell_type": "code",
      "source": [
        "ds_iris.columns.tolist()"
      ],
      "metadata": {
        "colab": {
          "base_uri": "https://localhost:8080/"
        },
        "id": "b6hwoR2VNv2C",
        "outputId": "b46f3c39-e0b4-4f58-c816-376dbc9f024b"
      },
      "execution_count": 7,
      "outputs": [
        {
          "output_type": "execute_result",
          "data": {
            "text/plain": [
              "['sepal length (cm)',\n",
              " 'sepal width (cm)',\n",
              " 'petal length (cm)',\n",
              " 'petal width (cm)']"
            ]
          },
          "metadata": {},
          "execution_count": 7
        }
      ]
    },
    {
      "cell_type": "markdown",
      "source": [
        "Descripcion de los campos (Continuara)..."
      ],
      "metadata": {
        "id": "KzQVFE89OWFp"
      }
    },
    {
      "cell_type": "markdown",
      "source": [
        "# Preprocesamiento\n"
      ],
      "metadata": {
        "id": "8q6JsZ0FOfVZ"
      }
    },
    {
      "cell_type": "markdown",
      "source": [
        "Anlizamos la proporcion de datos nulos de cada atributo"
      ],
      "metadata": {
        "id": "dYPyeF5aOxwa"
      }
    },
    {
      "cell_type": "code",
      "source": [
        "filas_totales=ds_iris.shape[0]\n",
        "print(ds_iris.isna().sum()/filas_totales*100)"
      ],
      "metadata": {
        "colab": {
          "base_uri": "https://localhost:8080/"
        },
        "id": "Dn-cSkxmOmBj",
        "outputId": "3a019741-8c50-4b42-c969-15f62e16cd3c"
      },
      "execution_count": 8,
      "outputs": [
        {
          "output_type": "stream",
          "name": "stdout",
          "text": [
            "sepal length (cm)    0.0\n",
            "sepal width (cm)     0.0\n",
            "petal length (cm)    0.0\n",
            "petal width (cm)     0.0\n",
            "dtype: float64\n"
          ]
        }
      ]
    },
    {
      "cell_type": "code",
      "source": [
        "ds_trabajo = ds_iris.copy()"
      ],
      "metadata": {
        "id": "e8PIstwzq8Bv"
      },
      "execution_count": 9,
      "outputs": []
    },
    {
      "cell_type": "markdown",
      "source": [
        "Para un dataset como este, no hay mucho mas preprocesamiento que hacer."
      ],
      "metadata": {
        "id": "mAhJuq0kPSH1"
      }
    },
    {
      "cell_type": "markdown",
      "source": [
        "#1. Entrenar un árbol de decisión para el conjunto de datos de Iris."
      ],
      "metadata": {
        "id": "LhkC0HCUPauf"
      }
    },
    {
      "cell_type": "markdown",
      "source": [
        "A su mismo vez, usamos la palabra reservada \"criterion\" para utilizar el hiperparámetro Gini que es la medida de cuán a menudo un elemento elegido\n",
        "aleatoriamente del conjunto sería etiquetado incorrectamente si fue etiquetado de manera aleatoria de acuerdo a la distribución de las etiquetas en el subconjunto."
      ],
      "metadata": {
        "id": "d6V6w-y1Mbyr"
      }
    },
    {
      "cell_type": "code",
      "source": [
        "#Creo un clasificador\n",
        "tree_model = tree.DecisionTreeClassifier(criterion = \"gini\",max_depth = 2)"
      ],
      "metadata": {
        "id": "W_3SI5sAPgEh"
      },
      "execution_count": 10,
      "outputs": []
    },
    {
      "cell_type": "markdown",
      "source": [
        "#2. Partir el conjunto Iris en dos: “entrenamiento” y “prueba”, dejando un 25% del conjunto original para pruebas."
      ],
      "metadata": {
        "id": "sDYtwo9jP5Ad"
      }
    },
    {
      "cell_type": "markdown",
      "source": [
        "Vimos que 'species' es una variable categórica. Como es de costumbre, a las variables categóricas se le aplica one hot encoding ya que los arboles, solo aceptan variables numéricas como variables de entrada. Sin embargo, este no es el caso ya que 'species' por lo que pide el enunciado, es la variable 'target'."
      ],
      "metadata": {
        "id": "iePJ22_KjsOD"
      }
    },
    {
      "cell_type": "code",
      "source": [
        "#Creo un dataset con los features que voy a usar para clasificar\n",
        "ds_trabajo_x=ds_trabajo\n",
        "\n",
        "#Creo un dataset con la variable target\n",
        "ds_trabajo_y = iris.target\n",
        "\n",
        "#Genero los conjuntos de train y test\n",
        "x_train, x_test, y_train, y_test = train_test_split(ds_trabajo_x, ds_trabajo_y, test_size=0.25,random_state = 42) #semilla\n",
        "#test_size = 0.25 indica que el 25% del conjunto de datos, se asignará al conjunto de prueba y el otro 75% restante se asignará al conjunto de entrenamiento."
      ],
      "metadata": {
        "id": "81Y9mLCsrBk-"
      },
      "execution_count": 11,
      "outputs": []
    },
    {
      "cell_type": "markdown",
      "source": [
        "Datos de entrenamiento de entrada:"
      ],
      "metadata": {
        "id": "GWfqUu6Fl7dq"
      }
    },
    {
      "cell_type": "code",
      "source": [
        "x_train"
      ],
      "metadata": {
        "colab": {
          "base_uri": "https://localhost:8080/",
          "height": 423
        },
        "id": "efDZRr76lpjt",
        "outputId": "87f856d5-cbdd-438d-88cb-68d04e10d3d8"
      },
      "execution_count": 12,
      "outputs": [
        {
          "output_type": "execute_result",
          "data": {
            "text/plain": [
              "     sepal length (cm)  sepal width (cm)  petal length (cm)  petal width (cm)\n",
              "4                  5.0               3.6                1.4               0.2\n",
              "32                 5.2               4.1                1.5               0.1\n",
              "142                5.8               2.7                5.1               1.9\n",
              "85                 6.0               3.4                4.5               1.6\n",
              "86                 6.7               3.1                4.7               1.5\n",
              "..                 ...               ...                ...               ...\n",
              "71                 6.1               2.8                4.0               1.3\n",
              "106                4.9               2.5                4.5               1.7\n",
              "14                 5.8               4.0                1.2               0.2\n",
              "92                 5.8               2.6                4.0               1.2\n",
              "102                7.1               3.0                5.9               2.1\n",
              "\n",
              "[112 rows x 4 columns]"
            ],
            "text/html": [
              "\n",
              "\n",
              "  <div id=\"df-bbeb4c25-632b-471c-a823-ca080f63ff00\">\n",
              "    <div class=\"colab-df-container\">\n",
              "      <div>\n",
              "<style scoped>\n",
              "    .dataframe tbody tr th:only-of-type {\n",
              "        vertical-align: middle;\n",
              "    }\n",
              "\n",
              "    .dataframe tbody tr th {\n",
              "        vertical-align: top;\n",
              "    }\n",
              "\n",
              "    .dataframe thead th {\n",
              "        text-align: right;\n",
              "    }\n",
              "</style>\n",
              "<table border=\"1\" class=\"dataframe\">\n",
              "  <thead>\n",
              "    <tr style=\"text-align: right;\">\n",
              "      <th></th>\n",
              "      <th>sepal length (cm)</th>\n",
              "      <th>sepal width (cm)</th>\n",
              "      <th>petal length (cm)</th>\n",
              "      <th>petal width (cm)</th>\n",
              "    </tr>\n",
              "  </thead>\n",
              "  <tbody>\n",
              "    <tr>\n",
              "      <th>4</th>\n",
              "      <td>5.0</td>\n",
              "      <td>3.6</td>\n",
              "      <td>1.4</td>\n",
              "      <td>0.2</td>\n",
              "    </tr>\n",
              "    <tr>\n",
              "      <th>32</th>\n",
              "      <td>5.2</td>\n",
              "      <td>4.1</td>\n",
              "      <td>1.5</td>\n",
              "      <td>0.1</td>\n",
              "    </tr>\n",
              "    <tr>\n",
              "      <th>142</th>\n",
              "      <td>5.8</td>\n",
              "      <td>2.7</td>\n",
              "      <td>5.1</td>\n",
              "      <td>1.9</td>\n",
              "    </tr>\n",
              "    <tr>\n",
              "      <th>85</th>\n",
              "      <td>6.0</td>\n",
              "      <td>3.4</td>\n",
              "      <td>4.5</td>\n",
              "      <td>1.6</td>\n",
              "    </tr>\n",
              "    <tr>\n",
              "      <th>86</th>\n",
              "      <td>6.7</td>\n",
              "      <td>3.1</td>\n",
              "      <td>4.7</td>\n",
              "      <td>1.5</td>\n",
              "    </tr>\n",
              "    <tr>\n",
              "      <th>...</th>\n",
              "      <td>...</td>\n",
              "      <td>...</td>\n",
              "      <td>...</td>\n",
              "      <td>...</td>\n",
              "    </tr>\n",
              "    <tr>\n",
              "      <th>71</th>\n",
              "      <td>6.1</td>\n",
              "      <td>2.8</td>\n",
              "      <td>4.0</td>\n",
              "      <td>1.3</td>\n",
              "    </tr>\n",
              "    <tr>\n",
              "      <th>106</th>\n",
              "      <td>4.9</td>\n",
              "      <td>2.5</td>\n",
              "      <td>4.5</td>\n",
              "      <td>1.7</td>\n",
              "    </tr>\n",
              "    <tr>\n",
              "      <th>14</th>\n",
              "      <td>5.8</td>\n",
              "      <td>4.0</td>\n",
              "      <td>1.2</td>\n",
              "      <td>0.2</td>\n",
              "    </tr>\n",
              "    <tr>\n",
              "      <th>92</th>\n",
              "      <td>5.8</td>\n",
              "      <td>2.6</td>\n",
              "      <td>4.0</td>\n",
              "      <td>1.2</td>\n",
              "    </tr>\n",
              "    <tr>\n",
              "      <th>102</th>\n",
              "      <td>7.1</td>\n",
              "      <td>3.0</td>\n",
              "      <td>5.9</td>\n",
              "      <td>2.1</td>\n",
              "    </tr>\n",
              "  </tbody>\n",
              "</table>\n",
              "<p>112 rows × 4 columns</p>\n",
              "</div>\n",
              "      <button class=\"colab-df-convert\" onclick=\"convertToInteractive('df-bbeb4c25-632b-471c-a823-ca080f63ff00')\"\n",
              "              title=\"Convert this dataframe to an interactive table.\"\n",
              "              style=\"display:none;\">\n",
              "\n",
              "  <svg xmlns=\"http://www.w3.org/2000/svg\" height=\"24px\"viewBox=\"0 0 24 24\"\n",
              "       width=\"24px\">\n",
              "    <path d=\"M0 0h24v24H0V0z\" fill=\"none\"/>\n",
              "    <path d=\"M18.56 5.44l.94 2.06.94-2.06 2.06-.94-2.06-.94-.94-2.06-.94 2.06-2.06.94zm-11 1L8.5 8.5l.94-2.06 2.06-.94-2.06-.94L8.5 2.5l-.94 2.06-2.06.94zm10 10l.94 2.06.94-2.06 2.06-.94-2.06-.94-.94-2.06-.94 2.06-2.06.94z\"/><path d=\"M17.41 7.96l-1.37-1.37c-.4-.4-.92-.59-1.43-.59-.52 0-1.04.2-1.43.59L10.3 9.45l-7.72 7.72c-.78.78-.78 2.05 0 2.83L4 21.41c.39.39.9.59 1.41.59.51 0 1.02-.2 1.41-.59l7.78-7.78 2.81-2.81c.8-.78.8-2.07 0-2.86zM5.41 20L4 18.59l7.72-7.72 1.47 1.35L5.41 20z\"/>\n",
              "  </svg>\n",
              "      </button>\n",
              "\n",
              "\n",
              "\n",
              "    <div id=\"df-83d1176f-1018-439d-b1f6-edb6469d30a1\">\n",
              "      <button class=\"colab-df-quickchart\" onclick=\"quickchart('df-83d1176f-1018-439d-b1f6-edb6469d30a1')\"\n",
              "              title=\"Suggest charts.\"\n",
              "              style=\"display:none;\">\n",
              "\n",
              "<svg xmlns=\"http://www.w3.org/2000/svg\" height=\"24px\"viewBox=\"0 0 24 24\"\n",
              "     width=\"24px\">\n",
              "    <g>\n",
              "        <path d=\"M19 3H5c-1.1 0-2 .9-2 2v14c0 1.1.9 2 2 2h14c1.1 0 2-.9 2-2V5c0-1.1-.9-2-2-2zM9 17H7v-7h2v7zm4 0h-2V7h2v10zm4 0h-2v-4h2v4z\"/>\n",
              "    </g>\n",
              "</svg>\n",
              "      </button>\n",
              "    </div>\n",
              "\n",
              "<style>\n",
              "  .colab-df-quickchart {\n",
              "    background-color: #E8F0FE;\n",
              "    border: none;\n",
              "    border-radius: 50%;\n",
              "    cursor: pointer;\n",
              "    display: none;\n",
              "    fill: #1967D2;\n",
              "    height: 32px;\n",
              "    padding: 0 0 0 0;\n",
              "    width: 32px;\n",
              "  }\n",
              "\n",
              "  .colab-df-quickchart:hover {\n",
              "    background-color: #E2EBFA;\n",
              "    box-shadow: 0px 1px 2px rgba(60, 64, 67, 0.3), 0px 1px 3px 1px rgba(60, 64, 67, 0.15);\n",
              "    fill: #174EA6;\n",
              "  }\n",
              "\n",
              "  [theme=dark] .colab-df-quickchart {\n",
              "    background-color: #3B4455;\n",
              "    fill: #D2E3FC;\n",
              "  }\n",
              "\n",
              "  [theme=dark] .colab-df-quickchart:hover {\n",
              "    background-color: #434B5C;\n",
              "    box-shadow: 0px 1px 3px 1px rgba(0, 0, 0, 0.15);\n",
              "    filter: drop-shadow(0px 1px 2px rgba(0, 0, 0, 0.3));\n",
              "    fill: #FFFFFF;\n",
              "  }\n",
              "</style>\n",
              "\n",
              "    <script>\n",
              "      async function quickchart(key) {\n",
              "        const containerElement = document.querySelector('#' + key);\n",
              "        const charts = await google.colab.kernel.invokeFunction(\n",
              "            'suggestCharts', [key], {});\n",
              "      }\n",
              "    </script>\n",
              "\n",
              "      <script>\n",
              "\n",
              "function displayQuickchartButton(domScope) {\n",
              "  let quickchartButtonEl =\n",
              "    domScope.querySelector('#df-83d1176f-1018-439d-b1f6-edb6469d30a1 button.colab-df-quickchart');\n",
              "  quickchartButtonEl.style.display =\n",
              "    google.colab.kernel.accessAllowed ? 'block' : 'none';\n",
              "}\n",
              "\n",
              "        displayQuickchartButton(document);\n",
              "      </script>\n",
              "      <style>\n",
              "    .colab-df-container {\n",
              "      display:flex;\n",
              "      flex-wrap:wrap;\n",
              "      gap: 12px;\n",
              "    }\n",
              "\n",
              "    .colab-df-convert {\n",
              "      background-color: #E8F0FE;\n",
              "      border: none;\n",
              "      border-radius: 50%;\n",
              "      cursor: pointer;\n",
              "      display: none;\n",
              "      fill: #1967D2;\n",
              "      height: 32px;\n",
              "      padding: 0 0 0 0;\n",
              "      width: 32px;\n",
              "    }\n",
              "\n",
              "    .colab-df-convert:hover {\n",
              "      background-color: #E2EBFA;\n",
              "      box-shadow: 0px 1px 2px rgba(60, 64, 67, 0.3), 0px 1px 3px 1px rgba(60, 64, 67, 0.15);\n",
              "      fill: #174EA6;\n",
              "    }\n",
              "\n",
              "    [theme=dark] .colab-df-convert {\n",
              "      background-color: #3B4455;\n",
              "      fill: #D2E3FC;\n",
              "    }\n",
              "\n",
              "    [theme=dark] .colab-df-convert:hover {\n",
              "      background-color: #434B5C;\n",
              "      box-shadow: 0px 1px 3px 1px rgba(0, 0, 0, 0.15);\n",
              "      filter: drop-shadow(0px 1px 2px rgba(0, 0, 0, 0.3));\n",
              "      fill: #FFFFFF;\n",
              "    }\n",
              "  </style>\n",
              "\n",
              "      <script>\n",
              "        const buttonEl =\n",
              "          document.querySelector('#df-bbeb4c25-632b-471c-a823-ca080f63ff00 button.colab-df-convert');\n",
              "        buttonEl.style.display =\n",
              "          google.colab.kernel.accessAllowed ? 'block' : 'none';\n",
              "\n",
              "        async function convertToInteractive(key) {\n",
              "          const element = document.querySelector('#df-bbeb4c25-632b-471c-a823-ca080f63ff00');\n",
              "          const dataTable =\n",
              "            await google.colab.kernel.invokeFunction('convertToInteractive',\n",
              "                                                     [key], {});\n",
              "          if (!dataTable) return;\n",
              "\n",
              "          const docLinkHtml = 'Like what you see? Visit the ' +\n",
              "            '<a target=\"_blank\" href=https://colab.research.google.com/notebooks/data_table.ipynb>data table notebook</a>'\n",
              "            + ' to learn more about interactive tables.';\n",
              "          element.innerHTML = '';\n",
              "          dataTable['output_type'] = 'display_data';\n",
              "          await google.colab.output.renderOutput(dataTable, element);\n",
              "          const docLink = document.createElement('div');\n",
              "          docLink.innerHTML = docLinkHtml;\n",
              "          element.appendChild(docLink);\n",
              "        }\n",
              "      </script>\n",
              "    </div>\n",
              "  </div>\n"
            ]
          },
          "metadata": {},
          "execution_count": 12
        }
      ]
    },
    {
      "cell_type": "markdown",
      "source": [
        "Datos de entrenamiento de salida:"
      ],
      "metadata": {
        "id": "isVoAMZCmApj"
      }
    },
    {
      "cell_type": "code",
      "source": [
        "y_train"
      ],
      "metadata": {
        "colab": {
          "base_uri": "https://localhost:8080/"
        },
        "id": "jYC-12SAl0Le",
        "outputId": "fdd33df5-2334-4eed-d638-5c284083a406"
      },
      "execution_count": 13,
      "outputs": [
        {
          "output_type": "execute_result",
          "data": {
            "text/plain": [
              "array([0, 0, 2, 1, 1, 0, 0, 1, 2, 2, 1, 2, 1, 2, 1, 0, 2, 1, 0, 0, 0, 1,\n",
              "       2, 0, 0, 0, 1, 0, 1, 2, 0, 1, 2, 0, 2, 2, 1, 1, 2, 1, 0, 1, 2, 0,\n",
              "       0, 1, 1, 0, 2, 0, 0, 1, 1, 2, 1, 2, 2, 1, 0, 0, 2, 2, 0, 0, 0, 1,\n",
              "       2, 0, 2, 2, 0, 1, 1, 2, 1, 2, 0, 2, 1, 2, 1, 1, 1, 0, 1, 1, 0, 1,\n",
              "       2, 2, 0, 1, 2, 2, 0, 2, 0, 1, 2, 2, 1, 2, 1, 1, 2, 2, 0, 1, 2, 0,\n",
              "       1, 2])"
            ]
          },
          "metadata": {},
          "execution_count": 13
        }
      ]
    },
    {
      "cell_type": "markdown",
      "source": [
        "Datos de pruebas de entrada:"
      ],
      "metadata": {
        "id": "VL-i00sDmGA1"
      }
    },
    {
      "cell_type": "code",
      "source": [
        "x_test"
      ],
      "metadata": {
        "colab": {
          "base_uri": "https://localhost:8080/",
          "height": 1000
        },
        "id": "BelaRCt3mKx3",
        "outputId": "d0afc2d2-7765-4cfb-9339-dbca7a737c99"
      },
      "execution_count": 14,
      "outputs": [
        {
          "output_type": "execute_result",
          "data": {
            "text/plain": [
              "     sepal length (cm)  sepal width (cm)  petal length (cm)  petal width (cm)\n",
              "73                 6.1               2.8                4.7               1.2\n",
              "18                 5.7               3.8                1.7               0.3\n",
              "118                7.7               2.6                6.9               2.3\n",
              "78                 6.0               2.9                4.5               1.5\n",
              "76                 6.8               2.8                4.8               1.4\n",
              "31                 5.4               3.4                1.5               0.4\n",
              "64                 5.6               2.9                3.6               1.3\n",
              "141                6.9               3.1                5.1               2.3\n",
              "68                 6.2               2.2                4.5               1.5\n",
              "82                 5.8               2.7                3.9               1.2\n",
              "110                6.5               3.2                5.1               2.0\n",
              "12                 4.8               3.0                1.4               0.1\n",
              "36                 5.5               3.5                1.3               0.2\n",
              "9                  4.9               3.1                1.5               0.1\n",
              "19                 5.1               3.8                1.5               0.3\n",
              "56                 6.3               3.3                4.7               1.6\n",
              "104                6.5               3.0                5.8               2.2\n",
              "69                 5.6               2.5                3.9               1.1\n",
              "55                 5.7               2.8                4.5               1.3\n",
              "132                6.4               2.8                5.6               2.2\n",
              "29                 4.7               3.2                1.6               0.2\n",
              "127                6.1               3.0                4.9               1.8\n",
              "26                 5.0               3.4                1.6               0.4\n",
              "128                6.4               2.8                5.6               2.1\n",
              "131                7.9               3.8                6.4               2.0\n",
              "145                6.7               3.0                5.2               2.3\n",
              "108                6.7               2.5                5.8               1.8\n",
              "143                6.8               3.2                5.9               2.3\n",
              "45                 4.8               3.0                1.4               0.3\n",
              "30                 4.8               3.1                1.6               0.2\n",
              "22                 4.6               3.6                1.0               0.2\n",
              "15                 5.7               4.4                1.5               0.4\n",
              "65                 6.7               3.1                4.4               1.4\n",
              "11                 4.8               3.4                1.6               0.2\n",
              "42                 4.4               3.2                1.3               0.2\n",
              "146                6.3               2.5                5.0               1.9\n",
              "51                 6.4               3.2                4.5               1.5\n",
              "27                 5.2               3.5                1.5               0.2"
            ],
            "text/html": [
              "\n",
              "\n",
              "  <div id=\"df-76c7f5ad-6059-4d1a-808b-4841c9d8411f\">\n",
              "    <div class=\"colab-df-container\">\n",
              "      <div>\n",
              "<style scoped>\n",
              "    .dataframe tbody tr th:only-of-type {\n",
              "        vertical-align: middle;\n",
              "    }\n",
              "\n",
              "    .dataframe tbody tr th {\n",
              "        vertical-align: top;\n",
              "    }\n",
              "\n",
              "    .dataframe thead th {\n",
              "        text-align: right;\n",
              "    }\n",
              "</style>\n",
              "<table border=\"1\" class=\"dataframe\">\n",
              "  <thead>\n",
              "    <tr style=\"text-align: right;\">\n",
              "      <th></th>\n",
              "      <th>sepal length (cm)</th>\n",
              "      <th>sepal width (cm)</th>\n",
              "      <th>petal length (cm)</th>\n",
              "      <th>petal width (cm)</th>\n",
              "    </tr>\n",
              "  </thead>\n",
              "  <tbody>\n",
              "    <tr>\n",
              "      <th>73</th>\n",
              "      <td>6.1</td>\n",
              "      <td>2.8</td>\n",
              "      <td>4.7</td>\n",
              "      <td>1.2</td>\n",
              "    </tr>\n",
              "    <tr>\n",
              "      <th>18</th>\n",
              "      <td>5.7</td>\n",
              "      <td>3.8</td>\n",
              "      <td>1.7</td>\n",
              "      <td>0.3</td>\n",
              "    </tr>\n",
              "    <tr>\n",
              "      <th>118</th>\n",
              "      <td>7.7</td>\n",
              "      <td>2.6</td>\n",
              "      <td>6.9</td>\n",
              "      <td>2.3</td>\n",
              "    </tr>\n",
              "    <tr>\n",
              "      <th>78</th>\n",
              "      <td>6.0</td>\n",
              "      <td>2.9</td>\n",
              "      <td>4.5</td>\n",
              "      <td>1.5</td>\n",
              "    </tr>\n",
              "    <tr>\n",
              "      <th>76</th>\n",
              "      <td>6.8</td>\n",
              "      <td>2.8</td>\n",
              "      <td>4.8</td>\n",
              "      <td>1.4</td>\n",
              "    </tr>\n",
              "    <tr>\n",
              "      <th>31</th>\n",
              "      <td>5.4</td>\n",
              "      <td>3.4</td>\n",
              "      <td>1.5</td>\n",
              "      <td>0.4</td>\n",
              "    </tr>\n",
              "    <tr>\n",
              "      <th>64</th>\n",
              "      <td>5.6</td>\n",
              "      <td>2.9</td>\n",
              "      <td>3.6</td>\n",
              "      <td>1.3</td>\n",
              "    </tr>\n",
              "    <tr>\n",
              "      <th>141</th>\n",
              "      <td>6.9</td>\n",
              "      <td>3.1</td>\n",
              "      <td>5.1</td>\n",
              "      <td>2.3</td>\n",
              "    </tr>\n",
              "    <tr>\n",
              "      <th>68</th>\n",
              "      <td>6.2</td>\n",
              "      <td>2.2</td>\n",
              "      <td>4.5</td>\n",
              "      <td>1.5</td>\n",
              "    </tr>\n",
              "    <tr>\n",
              "      <th>82</th>\n",
              "      <td>5.8</td>\n",
              "      <td>2.7</td>\n",
              "      <td>3.9</td>\n",
              "      <td>1.2</td>\n",
              "    </tr>\n",
              "    <tr>\n",
              "      <th>110</th>\n",
              "      <td>6.5</td>\n",
              "      <td>3.2</td>\n",
              "      <td>5.1</td>\n",
              "      <td>2.0</td>\n",
              "    </tr>\n",
              "    <tr>\n",
              "      <th>12</th>\n",
              "      <td>4.8</td>\n",
              "      <td>3.0</td>\n",
              "      <td>1.4</td>\n",
              "      <td>0.1</td>\n",
              "    </tr>\n",
              "    <tr>\n",
              "      <th>36</th>\n",
              "      <td>5.5</td>\n",
              "      <td>3.5</td>\n",
              "      <td>1.3</td>\n",
              "      <td>0.2</td>\n",
              "    </tr>\n",
              "    <tr>\n",
              "      <th>9</th>\n",
              "      <td>4.9</td>\n",
              "      <td>3.1</td>\n",
              "      <td>1.5</td>\n",
              "      <td>0.1</td>\n",
              "    </tr>\n",
              "    <tr>\n",
              "      <th>19</th>\n",
              "      <td>5.1</td>\n",
              "      <td>3.8</td>\n",
              "      <td>1.5</td>\n",
              "      <td>0.3</td>\n",
              "    </tr>\n",
              "    <tr>\n",
              "      <th>56</th>\n",
              "      <td>6.3</td>\n",
              "      <td>3.3</td>\n",
              "      <td>4.7</td>\n",
              "      <td>1.6</td>\n",
              "    </tr>\n",
              "    <tr>\n",
              "      <th>104</th>\n",
              "      <td>6.5</td>\n",
              "      <td>3.0</td>\n",
              "      <td>5.8</td>\n",
              "      <td>2.2</td>\n",
              "    </tr>\n",
              "    <tr>\n",
              "      <th>69</th>\n",
              "      <td>5.6</td>\n",
              "      <td>2.5</td>\n",
              "      <td>3.9</td>\n",
              "      <td>1.1</td>\n",
              "    </tr>\n",
              "    <tr>\n",
              "      <th>55</th>\n",
              "      <td>5.7</td>\n",
              "      <td>2.8</td>\n",
              "      <td>4.5</td>\n",
              "      <td>1.3</td>\n",
              "    </tr>\n",
              "    <tr>\n",
              "      <th>132</th>\n",
              "      <td>6.4</td>\n",
              "      <td>2.8</td>\n",
              "      <td>5.6</td>\n",
              "      <td>2.2</td>\n",
              "    </tr>\n",
              "    <tr>\n",
              "      <th>29</th>\n",
              "      <td>4.7</td>\n",
              "      <td>3.2</td>\n",
              "      <td>1.6</td>\n",
              "      <td>0.2</td>\n",
              "    </tr>\n",
              "    <tr>\n",
              "      <th>127</th>\n",
              "      <td>6.1</td>\n",
              "      <td>3.0</td>\n",
              "      <td>4.9</td>\n",
              "      <td>1.8</td>\n",
              "    </tr>\n",
              "    <tr>\n",
              "      <th>26</th>\n",
              "      <td>5.0</td>\n",
              "      <td>3.4</td>\n",
              "      <td>1.6</td>\n",
              "      <td>0.4</td>\n",
              "    </tr>\n",
              "    <tr>\n",
              "      <th>128</th>\n",
              "      <td>6.4</td>\n",
              "      <td>2.8</td>\n",
              "      <td>5.6</td>\n",
              "      <td>2.1</td>\n",
              "    </tr>\n",
              "    <tr>\n",
              "      <th>131</th>\n",
              "      <td>7.9</td>\n",
              "      <td>3.8</td>\n",
              "      <td>6.4</td>\n",
              "      <td>2.0</td>\n",
              "    </tr>\n",
              "    <tr>\n",
              "      <th>145</th>\n",
              "      <td>6.7</td>\n",
              "      <td>3.0</td>\n",
              "      <td>5.2</td>\n",
              "      <td>2.3</td>\n",
              "    </tr>\n",
              "    <tr>\n",
              "      <th>108</th>\n",
              "      <td>6.7</td>\n",
              "      <td>2.5</td>\n",
              "      <td>5.8</td>\n",
              "      <td>1.8</td>\n",
              "    </tr>\n",
              "    <tr>\n",
              "      <th>143</th>\n",
              "      <td>6.8</td>\n",
              "      <td>3.2</td>\n",
              "      <td>5.9</td>\n",
              "      <td>2.3</td>\n",
              "    </tr>\n",
              "    <tr>\n",
              "      <th>45</th>\n",
              "      <td>4.8</td>\n",
              "      <td>3.0</td>\n",
              "      <td>1.4</td>\n",
              "      <td>0.3</td>\n",
              "    </tr>\n",
              "    <tr>\n",
              "      <th>30</th>\n",
              "      <td>4.8</td>\n",
              "      <td>3.1</td>\n",
              "      <td>1.6</td>\n",
              "      <td>0.2</td>\n",
              "    </tr>\n",
              "    <tr>\n",
              "      <th>22</th>\n",
              "      <td>4.6</td>\n",
              "      <td>3.6</td>\n",
              "      <td>1.0</td>\n",
              "      <td>0.2</td>\n",
              "    </tr>\n",
              "    <tr>\n",
              "      <th>15</th>\n",
              "      <td>5.7</td>\n",
              "      <td>4.4</td>\n",
              "      <td>1.5</td>\n",
              "      <td>0.4</td>\n",
              "    </tr>\n",
              "    <tr>\n",
              "      <th>65</th>\n",
              "      <td>6.7</td>\n",
              "      <td>3.1</td>\n",
              "      <td>4.4</td>\n",
              "      <td>1.4</td>\n",
              "    </tr>\n",
              "    <tr>\n",
              "      <th>11</th>\n",
              "      <td>4.8</td>\n",
              "      <td>3.4</td>\n",
              "      <td>1.6</td>\n",
              "      <td>0.2</td>\n",
              "    </tr>\n",
              "    <tr>\n",
              "      <th>42</th>\n",
              "      <td>4.4</td>\n",
              "      <td>3.2</td>\n",
              "      <td>1.3</td>\n",
              "      <td>0.2</td>\n",
              "    </tr>\n",
              "    <tr>\n",
              "      <th>146</th>\n",
              "      <td>6.3</td>\n",
              "      <td>2.5</td>\n",
              "      <td>5.0</td>\n",
              "      <td>1.9</td>\n",
              "    </tr>\n",
              "    <tr>\n",
              "      <th>51</th>\n",
              "      <td>6.4</td>\n",
              "      <td>3.2</td>\n",
              "      <td>4.5</td>\n",
              "      <td>1.5</td>\n",
              "    </tr>\n",
              "    <tr>\n",
              "      <th>27</th>\n",
              "      <td>5.2</td>\n",
              "      <td>3.5</td>\n",
              "      <td>1.5</td>\n",
              "      <td>0.2</td>\n",
              "    </tr>\n",
              "  </tbody>\n",
              "</table>\n",
              "</div>\n",
              "      <button class=\"colab-df-convert\" onclick=\"convertToInteractive('df-76c7f5ad-6059-4d1a-808b-4841c9d8411f')\"\n",
              "              title=\"Convert this dataframe to an interactive table.\"\n",
              "              style=\"display:none;\">\n",
              "\n",
              "  <svg xmlns=\"http://www.w3.org/2000/svg\" height=\"24px\"viewBox=\"0 0 24 24\"\n",
              "       width=\"24px\">\n",
              "    <path d=\"M0 0h24v24H0V0z\" fill=\"none\"/>\n",
              "    <path d=\"M18.56 5.44l.94 2.06.94-2.06 2.06-.94-2.06-.94-.94-2.06-.94 2.06-2.06.94zm-11 1L8.5 8.5l.94-2.06 2.06-.94-2.06-.94L8.5 2.5l-.94 2.06-2.06.94zm10 10l.94 2.06.94-2.06 2.06-.94-2.06-.94-.94-2.06-.94 2.06-2.06.94z\"/><path d=\"M17.41 7.96l-1.37-1.37c-.4-.4-.92-.59-1.43-.59-.52 0-1.04.2-1.43.59L10.3 9.45l-7.72 7.72c-.78.78-.78 2.05 0 2.83L4 21.41c.39.39.9.59 1.41.59.51 0 1.02-.2 1.41-.59l7.78-7.78 2.81-2.81c.8-.78.8-2.07 0-2.86zM5.41 20L4 18.59l7.72-7.72 1.47 1.35L5.41 20z\"/>\n",
              "  </svg>\n",
              "      </button>\n",
              "\n",
              "\n",
              "\n",
              "    <div id=\"df-8775719a-fddd-4cb8-9ea6-0501dd0cddb5\">\n",
              "      <button class=\"colab-df-quickchart\" onclick=\"quickchart('df-8775719a-fddd-4cb8-9ea6-0501dd0cddb5')\"\n",
              "              title=\"Suggest charts.\"\n",
              "              style=\"display:none;\">\n",
              "\n",
              "<svg xmlns=\"http://www.w3.org/2000/svg\" height=\"24px\"viewBox=\"0 0 24 24\"\n",
              "     width=\"24px\">\n",
              "    <g>\n",
              "        <path d=\"M19 3H5c-1.1 0-2 .9-2 2v14c0 1.1.9 2 2 2h14c1.1 0 2-.9 2-2V5c0-1.1-.9-2-2-2zM9 17H7v-7h2v7zm4 0h-2V7h2v10zm4 0h-2v-4h2v4z\"/>\n",
              "    </g>\n",
              "</svg>\n",
              "      </button>\n",
              "    </div>\n",
              "\n",
              "<style>\n",
              "  .colab-df-quickchart {\n",
              "    background-color: #E8F0FE;\n",
              "    border: none;\n",
              "    border-radius: 50%;\n",
              "    cursor: pointer;\n",
              "    display: none;\n",
              "    fill: #1967D2;\n",
              "    height: 32px;\n",
              "    padding: 0 0 0 0;\n",
              "    width: 32px;\n",
              "  }\n",
              "\n",
              "  .colab-df-quickchart:hover {\n",
              "    background-color: #E2EBFA;\n",
              "    box-shadow: 0px 1px 2px rgba(60, 64, 67, 0.3), 0px 1px 3px 1px rgba(60, 64, 67, 0.15);\n",
              "    fill: #174EA6;\n",
              "  }\n",
              "\n",
              "  [theme=dark] .colab-df-quickchart {\n",
              "    background-color: #3B4455;\n",
              "    fill: #D2E3FC;\n",
              "  }\n",
              "\n",
              "  [theme=dark] .colab-df-quickchart:hover {\n",
              "    background-color: #434B5C;\n",
              "    box-shadow: 0px 1px 3px 1px rgba(0, 0, 0, 0.15);\n",
              "    filter: drop-shadow(0px 1px 2px rgba(0, 0, 0, 0.3));\n",
              "    fill: #FFFFFF;\n",
              "  }\n",
              "</style>\n",
              "\n",
              "    <script>\n",
              "      async function quickchart(key) {\n",
              "        const containerElement = document.querySelector('#' + key);\n",
              "        const charts = await google.colab.kernel.invokeFunction(\n",
              "            'suggestCharts', [key], {});\n",
              "      }\n",
              "    </script>\n",
              "\n",
              "      <script>\n",
              "\n",
              "function displayQuickchartButton(domScope) {\n",
              "  let quickchartButtonEl =\n",
              "    domScope.querySelector('#df-8775719a-fddd-4cb8-9ea6-0501dd0cddb5 button.colab-df-quickchart');\n",
              "  quickchartButtonEl.style.display =\n",
              "    google.colab.kernel.accessAllowed ? 'block' : 'none';\n",
              "}\n",
              "\n",
              "        displayQuickchartButton(document);\n",
              "      </script>\n",
              "      <style>\n",
              "    .colab-df-container {\n",
              "      display:flex;\n",
              "      flex-wrap:wrap;\n",
              "      gap: 12px;\n",
              "    }\n",
              "\n",
              "    .colab-df-convert {\n",
              "      background-color: #E8F0FE;\n",
              "      border: none;\n",
              "      border-radius: 50%;\n",
              "      cursor: pointer;\n",
              "      display: none;\n",
              "      fill: #1967D2;\n",
              "      height: 32px;\n",
              "      padding: 0 0 0 0;\n",
              "      width: 32px;\n",
              "    }\n",
              "\n",
              "    .colab-df-convert:hover {\n",
              "      background-color: #E2EBFA;\n",
              "      box-shadow: 0px 1px 2px rgba(60, 64, 67, 0.3), 0px 1px 3px 1px rgba(60, 64, 67, 0.15);\n",
              "      fill: #174EA6;\n",
              "    }\n",
              "\n",
              "    [theme=dark] .colab-df-convert {\n",
              "      background-color: #3B4455;\n",
              "      fill: #D2E3FC;\n",
              "    }\n",
              "\n",
              "    [theme=dark] .colab-df-convert:hover {\n",
              "      background-color: #434B5C;\n",
              "      box-shadow: 0px 1px 3px 1px rgba(0, 0, 0, 0.15);\n",
              "      filter: drop-shadow(0px 1px 2px rgba(0, 0, 0, 0.3));\n",
              "      fill: #FFFFFF;\n",
              "    }\n",
              "  </style>\n",
              "\n",
              "      <script>\n",
              "        const buttonEl =\n",
              "          document.querySelector('#df-76c7f5ad-6059-4d1a-808b-4841c9d8411f button.colab-df-convert');\n",
              "        buttonEl.style.display =\n",
              "          google.colab.kernel.accessAllowed ? 'block' : 'none';\n",
              "\n",
              "        async function convertToInteractive(key) {\n",
              "          const element = document.querySelector('#df-76c7f5ad-6059-4d1a-808b-4841c9d8411f');\n",
              "          const dataTable =\n",
              "            await google.colab.kernel.invokeFunction('convertToInteractive',\n",
              "                                                     [key], {});\n",
              "          if (!dataTable) return;\n",
              "\n",
              "          const docLinkHtml = 'Like what you see? Visit the ' +\n",
              "            '<a target=\"_blank\" href=https://colab.research.google.com/notebooks/data_table.ipynb>data table notebook</a>'\n",
              "            + ' to learn more about interactive tables.';\n",
              "          element.innerHTML = '';\n",
              "          dataTable['output_type'] = 'display_data';\n",
              "          await google.colab.output.renderOutput(dataTable, element);\n",
              "          const docLink = document.createElement('div');\n",
              "          docLink.innerHTML = docLinkHtml;\n",
              "          element.appendChild(docLink);\n",
              "        }\n",
              "      </script>\n",
              "    </div>\n",
              "  </div>\n"
            ]
          },
          "metadata": {},
          "execution_count": 14
        }
      ]
    },
    {
      "cell_type": "markdown",
      "source": [
        "Y los datos de pruebas de salida:"
      ],
      "metadata": {
        "id": "3K26h3sKmPXb"
      }
    },
    {
      "cell_type": "code",
      "source": [
        "y_test"
      ],
      "metadata": {
        "colab": {
          "base_uri": "https://localhost:8080/"
        },
        "id": "ZqutcWP2mTdj",
        "outputId": "70111c10-2dd5-49ee-fd17-80464de1794e"
      },
      "execution_count": 15,
      "outputs": [
        {
          "output_type": "execute_result",
          "data": {
            "text/plain": [
              "array([1, 0, 2, 1, 1, 0, 1, 2, 1, 1, 2, 0, 0, 0, 0, 1, 2, 1, 1, 2, 0, 2,\n",
              "       0, 2, 2, 2, 2, 2, 0, 0, 0, 0, 1, 0, 0, 2, 1, 0])"
            ]
          },
          "metadata": {},
          "execution_count": 15
        }
      ]
    },
    {
      "cell_type": "markdown",
      "source": [
        "#3. Imprimir la precisión (accuracy_score), para ambos conjuntos."
      ],
      "metadata": {
        "id": "DL3TNoVBlB2x"
      }
    },
    {
      "cell_type": "markdown",
      "source": [
        "##Calculo las métricas (Incluyendo el accuracy) para los datos de entrenamiento tanto tambien de test y vemos que sale:"
      ],
      "metadata": {
        "id": "ieWq3fpbpzf_"
      }
    },
    {
      "cell_type": "code",
      "source": [
        "start_time = time.time()"
      ],
      "metadata": {
        "id": "glrjO_GyZYjR"
      },
      "execution_count": 16,
      "outputs": []
    },
    {
      "cell_type": "code",
      "source": [
        "#Entrenamos el modelo\n",
        "model = tree_model.fit(X = x_train, y = y_train)"
      ],
      "metadata": {
        "id": "WCQVvoS0GfcR"
      },
      "execution_count": 17,
      "outputs": []
    },
    {
      "cell_type": "code",
      "source": [
        "end_time = time.time()"
      ],
      "metadata": {
        "id": "DxCNwM6UZfeL"
      },
      "execution_count": 18,
      "outputs": []
    },
    {
      "cell_type": "code",
      "source": [
        "training_time_gini = end_time - start_time"
      ],
      "metadata": {
        "id": "ZFwZDGBYZlF6"
      },
      "execution_count": 19,
      "outputs": []
    },
    {
      "cell_type": "markdown",
      "source": [
        "Primero vamos a realizar una predicción:"
      ],
      "metadata": {
        "id": "61FTFeNCF7hH"
      }
    },
    {
      "cell_type": "code",
      "source": [
        "#Realizamos una predicción sobre el set de entrenamiento\n",
        "y_pred_train = model.predict(x_train)"
      ],
      "metadata": {
        "id": "mvxMwnDcF_sp"
      },
      "execution_count": 20,
      "outputs": []
    },
    {
      "cell_type": "markdown",
      "source": [
        "Y ahora vamos a calcular las metricas para el conjunto de entrenamiento:"
      ],
      "metadata": {
        "id": "It-6xEiLUzfR"
      }
    },
    {
      "cell_type": "code",
      "source": [
        "#Calculo las métricas en el conjunto de evaluación\n",
        "accuracy=accuracy_score(y_train,y_pred_train)\n",
        "recall=recall_score(y_train,y_pred_train, average='micro')\n",
        "f1=f1_score(y_train,y_pred_train, average='micro')\n",
        "precision=precision_score(y_train,y_pred_train, average='micro')\n",
        "\n",
        "print(\"Accuracy del entrenamiento: \"+str(accuracy))\n",
        "print(\"Recall del entrenamiento: \"+str(recall))\n",
        "print(\"Precision del entrenamiento: \"+str(precision))\n",
        "print(\"f1 score del entrenamiento: \"+str(f1))"
      ],
      "metadata": {
        "colab": {
          "base_uri": "https://localhost:8080/"
        },
        "id": "pq785Q7plDWt",
        "outputId": "9ce8f736-9644-4e23-fbfa-6e30a6a67157"
      },
      "execution_count": 21,
      "outputs": [
        {
          "output_type": "stream",
          "name": "stdout",
          "text": [
            "Accuracy del entrenamiento: 0.9464285714285714\n",
            "Recall del entrenamiento: 0.9464285714285714\n",
            "Precision del entrenamiento: 0.9464285714285714\n",
            "f1 score del entrenamiento: 0.9464285714285714\n"
          ]
        }
      ]
    },
    {
      "cell_type": "markdown",
      "source": [
        "Será que esto da 'Overfitting'?"
      ],
      "metadata": {
        "id": "N1ua_9YFUqRV"
      }
    },
    {
      "cell_type": "markdown",
      "source": [
        "Ahora calculemos las metricas para el conjunto de prueba repitiendo el primer paso que es hacer una prediccion sobre esta vez, el conjunto de prueba:"
      ],
      "metadata": {
        "id": "NZH1E4WGU-Md"
      }
    },
    {
      "cell_type": "code",
      "source": [
        "#Realizamos una predicción sobre el set de prueba\n",
        "y_pred_test = model.predict(x_test)"
      ],
      "metadata": {
        "id": "tqr_-gLqVQze"
      },
      "execution_count": 22,
      "outputs": []
    },
    {
      "cell_type": "code",
      "source": [
        "#Calculo las métricas en el conjunto de evaluación\n",
        "accuracy=accuracy_score(y_test,y_pred_test)\n",
        "recall=recall_score(y_test,y_pred_test, average = 'micro')\n",
        "f1=f1_score(y_test,y_pred_test, average = 'micro')\n",
        "precision=precision_score(y_test,y_pred_test, average = 'micro')\n",
        "\n",
        "print(\"Accuracy del test: \"+str(accuracy))\n",
        "print(\"Recall del test: \"+str(recall))\n",
        "print(\"Precision del test: \"+str(precision))\n",
        "print(\"f1 score del test: \"+str(f1))"
      ],
      "metadata": {
        "colab": {
          "base_uri": "https://localhost:8080/"
        },
        "id": "A55WaOh-WDta",
        "outputId": "404d00f4-30d6-4701-b9ec-bcdec07efaf5"
      },
      "execution_count": 23,
      "outputs": [
        {
          "output_type": "stream",
          "name": "stdout",
          "text": [
            "Accuracy del test: 0.9736842105263158\n",
            "Recall del test: 0.9736842105263158\n",
            "Precision del test: 0.9736842105263158\n",
            "f1 score del test: 0.9736842105263158\n"
          ]
        }
      ]
    },
    {
      "cell_type": "markdown",
      "source": [
        "Conclusion: Los resultados que has obtenido muestran un buen rendimiento tanto en el conjunto de entrenamiento como en el conjunto de prueba. Las métricas de precisión, recall y f1-score son muy similares en ambos conjuntos, lo que sugiere que el modelo está generalizando bien a datos no vistos.\n",
        "\n",
        "El hecho de que las métricas en el conjunto de prueba sean muy cercanas a las del conjunto de entrenamiento es una señal positiva, ya que indica que el modelo está generalizando correctamente a nuevos datos.\n",
        "\n",
        "Además, el hecho de que todas las métricas (accuracy, recall, precision y f1-score) tengan valores similares sugiere que el modelo tiene un buen equilibrio entre la capacidad para clasificar correctamente las clases positivas (recall) y la precisión para evitar clasificar incorrectamente clases negativas como positivas (precision)."
      ],
      "metadata": {
        "id": "ZCJSXH8biFUb"
      }
    },
    {
      "cell_type": "markdown",
      "source": [
        "#4. Graficar el árbol de decisión."
      ],
      "metadata": {
        "id": "SIfuArTgipZ3"
      }
    },
    {
      "cell_type": "code",
      "source": [
        "model.classes_"
      ],
      "metadata": {
        "colab": {
          "base_uri": "https://localhost:8080/"
        },
        "id": "-fpSRsG1ivH5",
        "outputId": "c7916031-4628-42a9-98f3-545f21a1aa6a"
      },
      "execution_count": 24,
      "outputs": [
        {
          "output_type": "execute_result",
          "data": {
            "text/plain": [
              "array([0, 1, 2])"
            ]
          },
          "metadata": {},
          "execution_count": 24
        }
      ]
    },
    {
      "cell_type": "code",
      "source": [
        "class_names = {0: \"setosa\", 1: \"versicolor\", 2: \"virginica\"}"
      ],
      "metadata": {
        "id": "pjU5FWiwtn7w"
      },
      "execution_count": 25,
      "outputs": []
    },
    {
      "cell_type": "code",
      "source": [
        "tree_plot=tree.plot_tree(model,\n",
        "                         max_depth=2,\n",
        "                         feature_names=ds_trabajo_x.columns.to_list(),\n",
        "                         filled=True,\n",
        "                         rounded=True,\n",
        "                         class_names= class_names)\n",
        "\n",
        "plt.show(tree_plot)"
      ],
      "metadata": {
        "colab": {
          "base_uri": "https://localhost:8080/",
          "height": 406
        },
        "id": "P4Zoxz1Vjlsl",
        "outputId": "e40444fd-1ae7-417f-9bfb-87e8f663c0b8"
      },
      "execution_count": 26,
      "outputs": [
        {
          "output_type": "display_data",
          "data": {
            "text/plain": [
              "<Figure size 640x480 with 1 Axes>"
            ],
            "image/png": "[encoded data removed]"
          },
          "metadata": {}
        }
      ]
    },
    {
      "cell_type": "markdown",
      "source": [
        "#5. Volver a calcular el árbol cambiando el hiperparámetro: criterion para que use la entropía en lugar de la impureza de Gini."
      ],
      "metadata": {
        "id": "fIlrOEA22mUb"
      }
    },
    {
      "cell_type": "code",
      "source": [
        "#Creo un clasificador\n",
        "tree_model = tree.DecisionTreeClassifier(criterion = \"entropy\",max_depth = 2)\n",
        "\n",
        "#Creo un dataset con los features que voy a usar para clasificar\n",
        "ds_trabajo_x=ds_trabajo\n",
        "\n",
        "#Creo un dataset con la variable target\n",
        "ds_trabajo_y = iris.target\n",
        "\n",
        "#Genero los conjuntos de train y test\n",
        "x_train, x_test, y_train, y_test = train_test_split(ds_trabajo_x, ds_trabajo_y, test_size=0.25,random_state=42) #semilla\n",
        "#test_size = 0.25 indica que el 25% del conjunto de datos, se asignará al conjunto de prueba y el otro 75% restante se asignará al conjunto de entrenamiento."
      ],
      "metadata": {
        "id": "H3qq934H2o9a"
      },
      "execution_count": 27,
      "outputs": []
    },
    {
      "cell_type": "code",
      "source": [
        "start_time = time.time()"
      ],
      "metadata": {
        "id": "HaYiU1Z2Z0_0"
      },
      "execution_count": 28,
      "outputs": []
    },
    {
      "cell_type": "code",
      "source": [
        "#Entrenamos el modelo\n",
        "model = tree_model.fit(X = x_train, y = y_train)"
      ],
      "metadata": {
        "id": "CJYPnEC33_C6"
      },
      "execution_count": 29,
      "outputs": []
    },
    {
      "cell_type": "code",
      "source": [
        "end_time = time.time()"
      ],
      "metadata": {
        "id": "touSopYZZ3qp"
      },
      "execution_count": 30,
      "outputs": []
    },
    {
      "cell_type": "code",
      "source": [
        "training_time_entropy = end_time - start_time"
      ],
      "metadata": {
        "id": "pKjJh1HSZ5xK"
      },
      "execution_count": 31,
      "outputs": []
    },
    {
      "cell_type": "code",
      "source": [
        "#Realizamos una predicción sobre el set de entrenamiento\n",
        "y_pred_train = model.predict(x_train)"
      ],
      "metadata": {
        "id": "vGwCG-I04HyI"
      },
      "execution_count": 32,
      "outputs": []
    },
    {
      "cell_type": "markdown",
      "source": [
        "##a. ¿Cúal da mejor resultado?"
      ],
      "metadata": {
        "id": "WS8GQOCD4Y7Q"
      }
    },
    {
      "cell_type": "code",
      "source": [
        "#Calculo las métricas en el conjunto de entrenamiento\n",
        "accuracy=accuracy_score(y_train,y_pred_train)\n",
        "recall=recall_score(y_train,y_pred_train, average='micro')\n",
        "f1=f1_score(y_train,y_pred_train, average='micro')\n",
        "precision=precision_score(y_train,y_pred_train, average='micro')\n",
        "\n",
        "print(\"Accuracy del entrenamiento: \"+str(accuracy))\n",
        "print(\"Recall del entrenamiento: \"+str(recall))\n",
        "print(\"Precision del entrenamiento: \"+str(precision))\n",
        "print(\"f1 score del entrenamiento: \"+str(f1))"
      ],
      "metadata": {
        "colab": {
          "base_uri": "https://localhost:8080/"
        },
        "id": "xweGEDOW4dD_",
        "outputId": "c9e94a36-11e1-4643-f6ef-18ae964c2996"
      },
      "execution_count": 33,
      "outputs": [
        {
          "output_type": "stream",
          "name": "stdout",
          "text": [
            "Accuracy del entrenamiento: 0.9464285714285714\n",
            "Recall del entrenamiento: 0.9464285714285714\n",
            "Precision del entrenamiento: 0.9464285714285714\n",
            "f1 score del entrenamiento: 0.9464285714285714\n"
          ]
        }
      ]
    },
    {
      "cell_type": "code",
      "source": [
        "#Realizamos una predicción sobre el set de prueba\n",
        "y_pred_test = model.predict(x_test)\n",
        "\n",
        "#Calculo las métricas en el conjunto de evaluación\n",
        "accuracy=accuracy_score(y_test,y_pred_test)\n",
        "recall=recall_score(y_test,y_pred_test, average = 'micro')\n",
        "f1=f1_score(y_test,y_pred_test, average = 'micro')\n",
        "precision=precision_score(y_test,y_pred_test, average = 'micro')\n",
        "\n",
        "print(\"Accuracy del test: \"+str(accuracy))\n",
        "print(\"Recall del test: \"+str(recall))\n",
        "print(\"Precision del test: \"+str(precision))\n",
        "print(\"f1 score del test: \"+str(f1))"
      ],
      "metadata": {
        "colab": {
          "base_uri": "https://localhost:8080/"
        },
        "id": "h7go6b1Z4rJa",
        "outputId": "29ac4880-ac84-4c80-9909-87c114919a34"
      },
      "execution_count": 34,
      "outputs": [
        {
          "output_type": "stream",
          "name": "stdout",
          "text": [
            "Accuracy del test: 0.9736842105263158\n",
            "Recall del test: 0.9736842105263158\n",
            "Precision del test: 0.9736842105263158\n",
            "f1 score del test: 0.9736842105263158\n"
          ]
        }
      ]
    },
    {
      "cell_type": "markdown",
      "source": [
        "Respuesta a): Ninguno de los dos arboles con diferentes criterios (Tanto Gini como Entropia) dar mejor o peores metricas. Ambos arboles dan resultados de metricas iguales y por lo tanto se podria decir, que el resultado es el mismo."
      ],
      "metadata": {
        "id": "6wmH8cIPV0Tj"
      }
    },
    {
      "cell_type": "markdown",
      "source": [
        "##b. ¿Cambió el tiempo de entrenamiento?"
      ],
      "metadata": {
        "id": "bPP_vSGm48tq"
      }
    },
    {
      "cell_type": "code",
      "source": [
        "model.classes_\n",
        "\n",
        "class_names = {0: \"setosa\", 1: \"versicolor\", 2: \"virginica\"}\n",
        "\n",
        "tree_plot=tree.plot_tree(model,\n",
        "                         max_depth=2,\n",
        "                         feature_names=ds_trabajo_x.columns.to_list(),\n",
        "                         filled=True,\n",
        "                         rounded=True,\n",
        "                         class_names= class_names)\n",
        "\n",
        "plt.show(tree_plot)"
      ],
      "metadata": {
        "colab": {
          "base_uri": "https://localhost:8080/",
          "height": 406
        },
        "id": "NWhfF2i049_2",
        "outputId": "440550c9-9bf6-40ff-ef2e-b4ad160dc10a"
      },
      "execution_count": 35,
      "outputs": [
        {
          "output_type": "display_data",
          "data": {
            "text/plain": [
              "<Figure size 640x480 with 1 Axes>"
            ],
            "image/png": "[encoded data removed]"
          },
          "metadata": {}
        }
      ]
    },
    {
      "cell_type": "code",
      "source": [
        "print(\"Tiempo de entrenamiento con criterio Gini: \",training_time_gini)\n",
        "print(\"Tiempo de entrenamiento con criterio Entropía: \",training_time_entropy)"
      ],
      "metadata": {
        "colab": {
          "base_uri": "https://localhost:8080/"
        },
        "id": "fLkbXP9fasUc",
        "outputId": "f82867e4-81b9-418c-b2c3-1a3784528032"
      },
      "execution_count": 36,
      "outputs": [
        {
          "output_type": "stream",
          "name": "stdout",
          "text": [
            "Tiempo de entrenamiento con criterio Gini:  2.730456590652466\n",
            "Tiempo de entrenamiento con criterio Entropía:  2.8210856914520264\n"
          ]
        }
      ]
    },
    {
      "cell_type": "markdown",
      "source": [
        "Por lo tanto, si cambio el tiempo de entrenamiento y llegamos a la conclusión que con el criterio Gini el tiempo de entrenamiento, fue más rápido."
      ],
      "metadata": {
        "id": "lNyGrMYgbECt"
      }
    },
    {
      "cell_type": "markdown",
      "source": [
        "#6. Entrenar un modelo RandomForest"
      ],
      "metadata": {
        "id": "kpTWkPUMbv06"
      }
    },
    {
      "cell_type": "code",
      "source": [
        "from sklearn.ensemble import RandomForestClassifier"
      ],
      "metadata": {
        "id": "NyW0MmrTb1YP"
      },
      "execution_count": 61,
      "outputs": []
    },
    {
      "cell_type": "code",
      "source": [
        "# Crear el clasificador Random Forest\n",
        "rfc_default = RandomForestClassifier()"
      ],
      "metadata": {
        "id": "p3MrswjbvO7A"
      },
      "execution_count": 62,
      "outputs": []
    },
    {
      "cell_type": "markdown",
      "source": [
        "Mostramos los mejores parametros:"
      ],
      "metadata": {
        "id": "GQUrhNY6vU_t"
      }
    },
    {
      "cell_type": "code",
      "source": [
        "rfc_default.get_params()"
      ],
      "metadata": {
        "colab": {
          "base_uri": "https://localhost:8080/"
        },
        "id": "v3L09ey9vSLB",
        "outputId": "fdc68840-5919-4d0a-b4d5-c70294b02b6b"
      },
      "execution_count": 63,
      "outputs": [
        {
          "output_type": "execute_result",
          "data": {
            "text/plain": [
              "{'bootstrap': True,\n",
              " 'ccp_alpha': 0.0,\n",
              " 'class_weight': None,\n",
              " 'criterion': 'gini',\n",
              " 'max_depth': None,\n",
              " 'max_features': 'sqrt',\n",
              " 'max_leaf_nodes': None,\n",
              " 'max_samples': None,\n",
              " 'min_impurity_decrease': 0.0,\n",
              " 'min_samples_leaf': 1,\n",
              " 'min_samples_split': 2,\n",
              " 'min_weight_fraction_leaf': 0.0,\n",
              " 'n_estimators': 100,\n",
              " 'n_jobs': None,\n",
              " 'oob_score': False,\n",
              " 'random_state': None,\n",
              " 'verbose': 0,\n",
              " 'warm_start': False}"
            ]
          },
          "metadata": {},
          "execution_count": 63
        }
      ]
    },
    {
      "cell_type": "code",
      "source": [
        "start_time = time.time()"
      ],
      "metadata": {
        "id": "M7f6So4AVwvo"
      },
      "execution_count": 64,
      "outputs": []
    },
    {
      "cell_type": "code",
      "source": [
        "\n",
        "#Entrenamos el modelo\n",
        "modelo = rfc_default.fit(x_train,y_train)\n",
        "\n",
        "#Realizamos una predicción sobre el set de entrenamiento\n",
        "y_pred_train = modelo.predict(x_train)\n",
        "\n",
        "#Realizamos una predicción sobre el set de prueba\n",
        "y_pred_test = modelo.predict(x_test)"
      ],
      "metadata": {
        "id": "hnPE2hU91biV"
      },
      "execution_count": 65,
      "outputs": []
    },
    {
      "cell_type": "code",
      "source": [
        "end_time = time.time()"
      ],
      "metadata": {
        "id": "ocDZugsJVtRf"
      },
      "execution_count": 66,
      "outputs": []
    },
    {
      "cell_type": "code",
      "source": [
        "training_time_rf1 = end_time - start_time"
      ],
      "metadata": {
        "id": "7TzWqpNpV41O"
      },
      "execution_count": 67,
      "outputs": []
    },
    {
      "cell_type": "markdown",
      "source": [
        "##a. Calcular la precision (Y todas las demas metricas)"
      ],
      "metadata": {
        "id": "BPxwh5Sa3Irs"
      }
    },
    {
      "cell_type": "code",
      "source": [
        "#Calculo las métricas en el conjunto de entrenamiento\n",
        "accuracy=accuracy_score(y_train,y_pred_train)\n",
        "recall=recall_score(y_train,y_pred_train, average='micro')\n",
        "f1=f1_score(y_train,y_pred_train, average='micro')\n",
        "precision=precision_score(y_train,y_pred_train, average='micro')\n",
        "\n",
        "print(\"Accuracy del entrenamiento: \"+str(accuracy))\n",
        "print(\"Recall del entrenamiento: \"+str(recall))\n",
        "print(\"Precision del entrenamiento: \"+str(precision))\n",
        "print(\"f1 score del entrenamiento: \"+str(f1))"
      ],
      "metadata": {
        "colab": {
          "base_uri": "https://localhost:8080/"
        },
        "id": "YTnE_kmy3JzO",
        "outputId": "48c41e26-5ef6-4917-91f1-190178cc396c"
      },
      "execution_count": 68,
      "outputs": [
        {
          "output_type": "stream",
          "name": "stdout",
          "text": [
            "Accuracy del entrenamiento: 1.0\n",
            "Recall del entrenamiento: 1.0\n",
            "Precision del entrenamiento: 1.0\n",
            "f1 score del entrenamiento: 1.0\n"
          ]
        }
      ]
    },
    {
      "cell_type": "code",
      "source": [
        "#Calculo las métricas en el conjunto de evaluación\n",
        "accuracy=accuracy_score(y_test,y_pred_test)\n",
        "recall=recall_score(y_test,y_pred_test, average = 'micro')\n",
        "f1=f1_score(y_test,y_pred_test, average = 'micro')\n",
        "precision=precision_score(y_test,y_pred_test, average = 'micro')\n",
        "\n",
        "print(\"Accuracy del test: \"+str(accuracy))\n",
        "print(\"Recall del test: \"+str(recall))\n",
        "print(\"Precision del test: \"+str(precision))\n",
        "print(\"f1 score del test: \"+str(f1))"
      ],
      "metadata": {
        "colab": {
          "base_uri": "https://localhost:8080/"
        },
        "id": "Kb-x-3qq3-bC",
        "outputId": "6cfde348-75d6-44f9-f8c8-f92ab688845d"
      },
      "execution_count": 69,
      "outputs": [
        {
          "output_type": "stream",
          "name": "stdout",
          "text": [
            "Accuracy del test: 1.0\n",
            "Recall del test: 1.0\n",
            "Precision del test: 1.0\n",
            "f1 score del test: 1.0\n"
          ]
        }
      ]
    },
    {
      "cell_type": "markdown",
      "source": [
        "#b. Calcular la matriz de confusión"
      ],
      "metadata": {
        "id": "G-2TofmlIiTt"
      }
    },
    {
      "cell_type": "code",
      "source": [
        "#Creo la matriz de confusión\n",
        "tabla=confusion_matrix(y_test, y_pred_test)\n",
        "\n",
        "#Grafico la matriz de confusión\n",
        "sns.heatmap(tabla,cmap='GnBu',annot=True,fmt='g')\n",
        "plt.xlabel('Predicted')\n",
        "plt.ylabel('True')"
      ],
      "metadata": {
        "colab": {
          "base_uri": "https://localhost:8080/",
          "height": 467
        },
        "id": "GRzZQXxwIkH-",
        "outputId": "30bd4cb5-af83-443b-a4eb-26f7b8ae5645"
      },
      "execution_count": 70,
      "outputs": [
        {
          "output_type": "execute_result",
          "data": {
            "text/plain": [
              "Text(50.722222222222214, 0.5, 'True')"
            ]
          },
          "metadata": {},
          "execution_count": 70
        },
        {
          "output_type": "display_data",
          "data": {
            "text/plain": [
              "<Figure size 640x480 with 2 Axes>"
            ],
            "image/png": "[encoded data removed]"
          },
          "metadata": {}
        }
      ]
    },
    {
      "cell_type": "markdown",
      "source": [
        "Siendo 0: Setosa; 1: Versicolor; 2: Virginica."
      ],
      "metadata": {
        "id": "JDSaq7o1LTRF"
      }
    },
    {
      "cell_type": "markdown",
      "source": [
        "#c. Comparar con los árboles anteriores"
      ],
      "metadata": {
        "id": "8mIgWxPiM5pZ"
      }
    },
    {
      "cell_type": "markdown",
      "source": [
        "Para comparar los arboles anteriores con el modelo RF, podemos utilizar las métricas utilizadas anteriormente (Accuracy, Recall, Precision, F1 Score). Entonces con las metricas ya utilizadas en las versiones anteriores (Criterio de Gini, Criterio de Entropia, modelo RF) vemos que el modelo RF da mejores metricas que las versiones de los arboles con criterio Gini y Entropia. Esto claramente marca la superioridad que tiene el modelo RF por encima de los arboles individuales con criterio Gini y Entropía.\n",
        "Recordemos que el modelo Random Forest es una técnica de ensamble que combina varios árboles de decisión, lo que permite mejorar la precisión y reducir el sobreajuste en comparación con un solo arbol."
      ],
      "metadata": {
        "id": "omeioypkPkX3"
      }
    },
    {
      "cell_type": "markdown",
      "source": [
        "#d. Cambiar el hiperparámetro n_estimators dejarlo igual 10."
      ],
      "metadata": {
        "id": "Y2yNw-l3T5JH"
      }
    },
    {
      "cell_type": "markdown",
      "source": [
        "##i. ¿Mejoró o empeoró el modelo?"
      ],
      "metadata": {
        "id": "Ko4fAeCJUJ6c"
      }
    },
    {
      "cell_type": "code",
      "source": [
        "start_time = time.time()"
      ],
      "metadata": {
        "id": "3tJ0WkNoWKGR"
      },
      "execution_count": 71,
      "outputs": []
    },
    {
      "cell_type": "code",
      "source": [
        "# Crear el clasificador Random Forest\n",
        "rfc_default = RandomForestClassifier(n_estimators = 10)\n",
        "\n",
        "#Entrenamos el modelo\n",
        "modelo = rfc_default.fit(x_train,y_train)\n",
        "\n",
        "#Realizamos una predicción sobre el set de entrenamiento\n",
        "y_pred_train = modelo.predict(x_train)\n",
        "\n",
        "#Realizamos una predicción sobre el set de prueba\n",
        "y_pred_test = modelo.predict(x_test)"
      ],
      "metadata": {
        "id": "npMNls02UQRQ"
      },
      "execution_count": 72,
      "outputs": []
    },
    {
      "cell_type": "code",
      "source": [
        "end_time = time.time()"
      ],
      "metadata": {
        "id": "FHA9phfzWN1m"
      },
      "execution_count": 73,
      "outputs": []
    },
    {
      "cell_type": "code",
      "source": [
        "training_time_rf2 = end_time - start_time"
      ],
      "metadata": {
        "id": "48k-2fJwWQ2h"
      },
      "execution_count": 74,
      "outputs": []
    },
    {
      "cell_type": "code",
      "source": [
        "#Calculo las métricas en el conjunto de entrenamiento\n",
        "accuracy=accuracy_score(y_train,y_pred_train)\n",
        "recall=recall_score(y_train,y_pred_train, average='micro')\n",
        "f1=f1_score(y_train,y_pred_train, average='micro')\n",
        "precision=precision_score(y_train,y_pred_train, average='micro')\n",
        "\n",
        "print(\"Accuracy del entrenamiento: \"+str(accuracy))\n",
        "print(\"Recall del entrenamiento: \"+str(recall))\n",
        "print(\"Precision del entrenamiento: \"+str(precision))\n",
        "print(\"f1 score del entrenamiento: \"+str(f1))"
      ],
      "metadata": {
        "colab": {
          "base_uri": "https://localhost:8080/"
        },
        "id": "o95tsNYuUw-1",
        "outputId": "640d9b7f-e5fb-42b7-ccec-5ad38defe461"
      },
      "execution_count": 75,
      "outputs": [
        {
          "output_type": "stream",
          "name": "stdout",
          "text": [
            "Accuracy del entrenamiento: 0.9910714285714286\n",
            "Recall del entrenamiento: 0.9910714285714286\n",
            "Precision del entrenamiento: 0.9910714285714286\n",
            "f1 score del entrenamiento: 0.9910714285714286\n"
          ]
        }
      ]
    },
    {
      "cell_type": "code",
      "source": [
        "#Calculo las métricas en el conjunto de evaluación\n",
        "accuracy=accuracy_score(y_test,y_pred_test)\n",
        "recall=recall_score(y_test,y_pred_test, average = 'micro')\n",
        "f1=f1_score(y_test,y_pred_test, average = 'micro')\n",
        "precision=precision_score(y_test,y_pred_test, average = 'micro')\n",
        "\n",
        "print(\"Accuracy del test: \"+str(accuracy))\n",
        "print(\"Recall del test: \"+str(recall))\n",
        "print(\"Precision del test: \"+str(precision))\n",
        "print(\"f1 score del test: \"+str(f1))"
      ],
      "metadata": {
        "colab": {
          "base_uri": "https://localhost:8080/"
        },
        "id": "isDEcgRhVHHV",
        "outputId": "6af21ff4-fcd4-4512-f827-d80266a436e2"
      },
      "execution_count": 76,
      "outputs": [
        {
          "output_type": "stream",
          "name": "stdout",
          "text": [
            "Accuracy del test: 1.0\n",
            "Recall del test: 1.0\n",
            "Precision del test: 1.0\n",
            "f1 score del test: 1.0\n"
          ]
        }
      ]
    },
    {
      "cell_type": "markdown",
      "source": [
        "Según las métricas, con n_estimators = 10 las metricas del conjunto de entrenamiento empeoran un poquito pero no hay mucha diferencia. Mientras que en las métricas del conjunto de prueba no cambia absolutamente nada."
      ],
      "metadata": {
        "id": "o9iN8ddAWpK-"
      }
    },
    {
      "cell_type": "markdown",
      "source": [
        "##ii. ¿Cambió el tiempo de entrenamiento?"
      ],
      "metadata": {
        "id": "jCRcJOu5ZIhW"
      }
    },
    {
      "cell_type": "code",
      "source": [
        "print(\"Tiempo de entrenamiento del modelo Random Forest 1: \",training_time_rf1)\n",
        "print(\"Tiempo de entrenamiento del modelo Random Forest 2: \",training_time_rf2)"
      ],
      "metadata": {
        "colab": {
          "base_uri": "https://localhost:8080/"
        },
        "id": "spUT_P83ZOL6",
        "outputId": "096f4522-aaaf-4d37-efee-5ac3f6d4bae9"
      },
      "execution_count": 77,
      "outputs": [
        {
          "output_type": "stream",
          "name": "stdout",
          "text": [
            "Tiempo de entrenamiento del modelo Random Forest 1:  4.853724479675293\n",
            "Tiempo de entrenamiento del modelo Random Forest 2:  4.2961180210113525\n"
          ]
        }
      ]
    }
  ]
}